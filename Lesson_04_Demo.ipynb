{
  "cells": [
    {
      "cell_type": "markdown",
      "metadata": {
        "id": "view-in-github",
        "colab_type": "text"
      },
      "source": [
        "<a href=\"https://colab.research.google.com/github/RajeshRao24/RWI-Careers-Website/blob/main/Lesson_04_Demo.ipynb\" target=\"_parent\"><img src=\"https://colab.research.google.com/assets/colab-badge.svg\" alt=\"Open In Colab\"/></a>"
      ]
    },
    {
      "cell_type": "markdown",
      "metadata": {
        "id": "GocWhUTzqI16"
      },
      "source": [
        "# Data Types"
      ],
      "id": "GocWhUTzqI16"
    },
    {
      "cell_type": "code",
      "execution_count": 1,
      "metadata": {
        "colab": {
          "base_uri": "https://localhost:8080/"
        },
        "id": "-W-oD64GqI18",
        "outputId": "4ba04a68-f0d3-41c2-aaeb-3b16ea96a736"
      },
      "outputs": [
        {
          "output_type": "stream",
          "name": "stdout",
          "text": [
            "x =  34 \ty =  67.89 \tz =  True\n"
          ]
        }
      ],
      "source": [
        "x = 34 ; y = 67.89 ; z = True\n",
        "print('x = ', x, '\\ty = ', y, '\\tz = ', z)"
      ],
      "id": "-W-oD64GqI18"
    },
    {
      "cell_type": "code",
      "execution_count": 3,
      "metadata": {
        "colab": {
          "base_uri": "https://localhost:8080/"
        },
        "id": "8Y5blUsVqI1-",
        "outputId": "81d37d3c-6954-4d8d-b1ec-3b5ac5386aa3"
      },
      "outputs": [
        {
          "output_type": "stream",
          "name": "stdout",
          "text": [
            "Type of \n",
            "x =  <class 'int'> \ty =  <class 'float'> \tz =  <class 'bool'>\n"
          ]
        }
      ],
      "source": [
        "print('Type of \\nx = ', type(x), '\\ty = ', type(y), '\\tz = ', type(z))"
      ],
      "id": "8Y5blUsVqI1-"
    },
    {
      "cell_type": "code",
      "execution_count": null,
      "metadata": {
        "id": "4uQ0YVHdqI1-"
      },
      "outputs": [],
      "source": [
        "var = 'abc'\n",
        "print('var = ', var)\n",
        "print('type of var ', type(var))"
      ],
      "id": "4uQ0YVHdqI1-"
    },
    {
      "cell_type": "markdown",
      "metadata": {
        "id": "6lm44-5gqI1-"
      },
      "source": [
        "## Data Type Conversion"
      ],
      "id": "6lm44-5gqI1-"
    },
    {
      "cell_type": "code",
      "execution_count": 4,
      "metadata": {
        "colab": {
          "base_uri": "https://localhost:8080/"
        },
        "id": "nOV9swmlqI1-",
        "outputId": "47a941e5-b1d1-424b-9149-14eaeb5d059e"
      },
      "outputs": [
        {
          "output_type": "execute_result",
          "data": {
            "text/plain": [
              "45"
            ]
          },
          "metadata": {},
          "execution_count": 4
        }
      ],
      "source": [
        "x = 45.77\n",
        "int(x)"
      ],
      "id": "nOV9swmlqI1-"
    },
    {
      "cell_type": "code",
      "execution_count": 5,
      "metadata": {
        "colab": {
          "base_uri": "https://localhost:8080/",
          "height": 35
        },
        "id": "b09Rwdo_qI1_",
        "outputId": "21ba3ee9-aa83-46c6-ba09-9cf57c3a0393"
      },
      "outputs": [
        {
          "output_type": "execute_result",
          "data": {
            "text/plain": [
              "'45.77'"
            ],
            "application/vnd.google.colaboratory.intrinsic+json": {
              "type": "string"
            }
          },
          "metadata": {},
          "execution_count": 5
        }
      ],
      "source": [
        "str(x)"
      ],
      "id": "b09Rwdo_qI1_"
    },
    {
      "cell_type": "code",
      "execution_count": null,
      "metadata": {
        "id": "G8ijGZ7eqI1_"
      },
      "outputs": [],
      "source": [
        "bool(x)"
      ],
      "id": "G8ijGZ7eqI1_"
    },
    {
      "cell_type": "code",
      "execution_count": null,
      "metadata": {
        "id": "T2WUQt5tqI1_"
      },
      "outputs": [],
      "source": [
        "y = '45.88'"
      ],
      "id": "T2WUQt5tqI1_"
    },
    {
      "cell_type": "code",
      "execution_count": null,
      "metadata": {
        "id": "92HlWpemqI1_"
      },
      "outputs": [],
      "source": [
        "float(y)"
      ],
      "id": "92HlWpemqI1_"
    },
    {
      "cell_type": "code",
      "execution_count": null,
      "metadata": {
        "id": "c6cSHc3lqI2A"
      },
      "outputs": [],
      "source": [
        "int(y)"
      ],
      "id": "c6cSHc3lqI2A"
    },
    {
      "cell_type": "markdown",
      "metadata": {
        "id": "Y64KMSE-qI2A"
      },
      "source": [
        "## Checking Refrences"
      ],
      "id": "Y64KMSE-qI2A"
    },
    {
      "cell_type": "code",
      "execution_count": null,
      "metadata": {
        "id": "ZqYQANtEqI2A"
      },
      "outputs": [],
      "source": [
        "x = 34\n",
        "y = x\n",
        "print('x = ', x, ';  id of x = ', id(x))\n",
        "print('y = ', y, ';  id of y = ', id(y))"
      ],
      "id": "ZqYQANtEqI2A"
    },
    {
      "cell_type": "code",
      "execution_count": null,
      "metadata": {
        "id": "FKFv27_rqI2B"
      },
      "outputs": [],
      "source": [
        "x = 65\n",
        "print('x = ', x, ';  id of x = ', id(x))\n",
        "print('y = ', y, ';  id of y = ', id(y))"
      ],
      "id": "FKFv27_rqI2B"
    },
    {
      "cell_type": "code",
      "execution_count": null,
      "metadata": {
        "id": "yueEHVVIqI2B"
      },
      "outputs": [],
      "source": [
        "y = 78\n",
        "print('x = ', x, ';  id of x = ', id(x))\n",
        "print('y = ', y, ';  id of y = ', id(y))"
      ],
      "id": "yueEHVVIqI2B"
    },
    {
      "cell_type": "markdown",
      "metadata": {
        "id": "NJ59r28uqI2B"
      },
      "source": [
        "#"
      ],
      "id": "NJ59r28uqI2B"
    },
    {
      "cell_type": "markdown",
      "metadata": {
        "id": "yC37z2zBqI2B"
      },
      "source": [
        "#\n",
        "#\n",
        "#\n",
        "#\n"
      ],
      "id": "yC37z2zBqI2B"
    },
    {
      "cell_type": "markdown",
      "metadata": {
        "id": "Db8nXAkzqI2B"
      },
      "source": [
        "# Arithmetic Operators"
      ],
      "id": "Db8nXAkzqI2B"
    },
    {
      "cell_type": "code",
      "execution_count": null,
      "metadata": {
        "id": "gFvqlAK6qI2B"
      },
      "outputs": [],
      "source": [
        "x = 50\n",
        "y = 4"
      ],
      "id": "gFvqlAK6qI2B"
    },
    {
      "cell_type": "code",
      "execution_count": null,
      "metadata": {
        "id": "gY2C4KveqI2C"
      },
      "outputs": [],
      "source": [
        "print('Sum of x & y                   : ', x + y)\n",
        "print('Difference between x & y       : ', x - y)\n",
        "print('Product of x & y               : ', x * y)\n",
        "print('Division of x by y             : ', x / y)"
      ],
      "id": "gY2C4KveqI2C"
    },
    {
      "cell_type": "code",
      "execution_count": null,
      "metadata": {
        "id": "VhIbQzYpqI2C"
      },
      "outputs": [],
      "source": [
        "print('Remainder of x divided by y    : ', x % y)\n",
        "print('Floor Division x divided by y  : ', x // y)\n",
        "print('Exponential value for x raised to power y : ', x ** y)"
      ],
      "id": "VhIbQzYpqI2C"
    },
    {
      "cell_type": "markdown",
      "metadata": {
        "id": "w9utGskoqI2C"
      },
      "source": [
        "#\n",
        "#\n",
        "#\n",
        "#"
      ],
      "id": "w9utGskoqI2C"
    },
    {
      "cell_type": "markdown",
      "metadata": {
        "id": "78fNSK4dqI2C"
      },
      "source": [
        "# Arithmetic Assignment Operators"
      ],
      "id": "78fNSK4dqI2C"
    },
    {
      "cell_type": "code",
      "execution_count": null,
      "metadata": {
        "id": "lcASGA6VqI2C"
      },
      "outputs": [],
      "source": [
        "a = 10\n",
        "print('Present value of a = ', a )"
      ],
      "id": "lcASGA6VqI2C"
    },
    {
      "cell_type": "code",
      "execution_count": null,
      "metadata": {
        "id": "7g-42q5MqI2C"
      },
      "outputs": [],
      "source": [
        "a += 5\n",
        "print('Updated value of a = ', a )"
      ],
      "id": "7g-42q5MqI2C"
    },
    {
      "cell_type": "code",
      "execution_count": null,
      "metadata": {
        "id": "l8SiGpajqI2C"
      },
      "outputs": [],
      "source": [
        "a = 10\n",
        "print('Present value of a = ', a )\n",
        "print('Present id of a = ', id(a))"
      ],
      "id": "l8SiGpajqI2C"
    },
    {
      "cell_type": "code",
      "execution_count": null,
      "metadata": {
        "id": "JrW8hbU6qI2D"
      },
      "outputs": [],
      "source": [
        "a += 15\n",
        "print('Updated value of a = ', a )\n",
        "print('Updated id of a = ', id(a))"
      ],
      "id": "JrW8hbU6qI2D"
    },
    {
      "cell_type": "markdown",
      "metadata": {
        "id": "jhmo0URmqI2D"
      },
      "source": [
        "#\n",
        "#\n",
        "#\n",
        "#\n"
      ],
      "id": "jhmo0URmqI2D"
    },
    {
      "cell_type": "markdown",
      "metadata": {
        "id": "4rVTraK7qI2D"
      },
      "source": [
        "# Comparison Operator"
      ],
      "id": "4rVTraK7qI2D"
    },
    {
      "cell_type": "code",
      "execution_count": null,
      "metadata": {
        "id": "7GH9ey9VqI2D"
      },
      "outputs": [],
      "source": [
        "a = 20\n",
        "b = 20\n",
        "print('a = ', a, '  b = ', b)\n",
        "print('a == b  : ', a == b)"
      ],
      "id": "7GH9ey9VqI2D"
    },
    {
      "cell_type": "code",
      "execution_count": null,
      "metadata": {
        "id": "JhzB-huFqI2D"
      },
      "outputs": [],
      "source": [
        "a = 20\n",
        "b = 30\n",
        "print('a = ', a, '  b = ', b)\n",
        "print('a != b  : ', a != b)"
      ],
      "id": "JhzB-huFqI2D"
    },
    {
      "cell_type": "code",
      "execution_count": null,
      "metadata": {
        "id": "a0Lk-Tn5qI2D"
      },
      "outputs": [],
      "source": [
        "a = 40\n",
        "b = 30\n",
        "print('a = ', a, '  b = ', b)\n",
        "print('a <= b  : ', a <= b)"
      ],
      "id": "a0Lk-Tn5qI2D"
    },
    {
      "cell_type": "code",
      "execution_count": null,
      "metadata": {
        "id": "ZR9A0qPzqI2D"
      },
      "outputs": [],
      "source": [
        "a = 30\n",
        "b = 30\n",
        "print('a = ', a, '  b = ', b)\n",
        "print('a >= b  : ', a >= b)"
      ],
      "id": "ZR9A0qPzqI2D"
    },
    {
      "cell_type": "markdown",
      "metadata": {
        "id": "zUzSkaXoqI2E"
      },
      "source": [
        "#\n",
        "#\n",
        "#\n",
        "#\n"
      ],
      "id": "zUzSkaXoqI2E"
    },
    {
      "cell_type": "markdown",
      "metadata": {
        "id": "Q2F-IqqiqI2E"
      },
      "source": [
        "# Logical Operators"
      ],
      "id": "Q2F-IqqiqI2E"
    },
    {
      "cell_type": "code",
      "execution_count": null,
      "metadata": {
        "id": "52_TcI2xqI2E"
      },
      "outputs": [],
      "source": [
        "a = 30\n",
        "b = 30\n",
        "print('a = ', a, '  b = ', b)\n",
        "print('a < b            : ', a < b)\n",
        "print('a == b           : ', a == b)"
      ],
      "id": "52_TcI2xqI2E"
    },
    {
      "cell_type": "code",
      "execution_count": null,
      "metadata": {
        "id": "ZOlxoDnKqI2E"
      },
      "outputs": [],
      "source": [
        "print('a < b and a == b : ', a < b and a == b)"
      ],
      "id": "ZOlxoDnKqI2E"
    },
    {
      "cell_type": "code",
      "execution_count": null,
      "metadata": {
        "id": "V9GoMTPGqI2E"
      },
      "outputs": [],
      "source": [
        "a = 30\n",
        "b = 30\n",
        "print('a = ', a, '  b = ', b)\n",
        "print('a < b           : ', a < b)\n",
        "print('a == b          : ', a == b)"
      ],
      "id": "V9GoMTPGqI2E"
    },
    {
      "cell_type": "code",
      "execution_count": null,
      "metadata": {
        "id": "j5SUJtAQqI2E"
      },
      "outputs": [],
      "source": [
        "print('a < b or a == b : ', a < b or a == b)"
      ],
      "id": "j5SUJtAQqI2E"
    },
    {
      "cell_type": "code",
      "execution_count": null,
      "metadata": {
        "id": "vEgnVFobqI2J"
      },
      "outputs": [],
      "source": [
        "a = 40\n",
        "print('a = ', a)\n",
        "print('a < 50      : ' , a < 50 )"
      ],
      "id": "vEgnVFobqI2J"
    },
    {
      "cell_type": "code",
      "execution_count": null,
      "metadata": {
        "id": "z6J8E_AUqI2J"
      },
      "outputs": [],
      "source": [
        "print('not a < 50  : ' , not(a < 50))"
      ],
      "id": "z6J8E_AUqI2J"
    },
    {
      "cell_type": "markdown",
      "metadata": {
        "id": "hz1ALzqvqI2J"
      },
      "source": [
        "#\n",
        "#\n",
        "#\n",
        "#\n",
        "#"
      ],
      "id": "hz1ALzqvqI2J"
    },
    {
      "cell_type": "markdown",
      "metadata": {
        "tags": [],
        "id": "R7DL5ZtwqI2K"
      },
      "source": [
        "# Miscellaneous Operators"
      ],
      "id": "R7DL5ZtwqI2K"
    },
    {
      "cell_type": "markdown",
      "metadata": {
        "id": "f_X66kRgqI2K"
      },
      "source": [
        "### Identity Operators"
      ],
      "id": "f_X66kRgqI2K"
    },
    {
      "cell_type": "code",
      "execution_count": null,
      "metadata": {
        "id": "fvSydjgHqI2K"
      },
      "outputs": [],
      "source": [
        "a = ['a', 'b', 'c']\n",
        "b = ['a', 'b', 'c']\n",
        "print('a is b' , a is b)"
      ],
      "id": "fvSydjgHqI2K"
    },
    {
      "cell_type": "code",
      "execution_count": null,
      "metadata": {
        "id": "ocPt3XOqqI2K"
      },
      "outputs": [],
      "source": [
        "a = ['a', 'b', 'c']\n",
        "b =  a\n",
        "print('a is b' , a is b)"
      ],
      "id": "ocPt3XOqqI2K"
    },
    {
      "cell_type": "code",
      "execution_count": null,
      "metadata": {
        "id": "TS33DhblqI2K"
      },
      "outputs": [],
      "source": [
        "id(a) == id(b)"
      ],
      "id": "TS33DhblqI2K"
    },
    {
      "cell_type": "code",
      "execution_count": null,
      "metadata": {
        "id": "Y7qFZmFpqI2K"
      },
      "outputs": [],
      "source": [
        "a = ['a', 'b', 'c']\n",
        "b = ['a', 'b', 'c']\n",
        "print('a is not b' , a is not b)"
      ],
      "id": "Y7qFZmFpqI2K"
    },
    {
      "cell_type": "markdown",
      "metadata": {
        "id": "WajoaLYFqI2K"
      },
      "source": [
        "### Membership Operators"
      ],
      "id": "WajoaLYFqI2K"
    },
    {
      "cell_type": "code",
      "execution_count": null,
      "metadata": {
        "id": "l40AmLiaqI2K"
      },
      "outputs": [],
      "source": [
        "x = 'a'\n",
        "y = 'Dictionary'\n",
        "print(x , ' in \"', y, '\"')\n",
        "print( x in y)"
      ],
      "id": "l40AmLiaqI2K"
    },
    {
      "cell_type": "code",
      "execution_count": null,
      "metadata": {
        "id": "uFkBeZQXqI2L"
      },
      "outputs": [],
      "source": [
        "x = 'a'\n",
        "y = 'Dictionary'\n",
        "print(x , ' in \"', y, '\"')\n",
        "print( x not in y)"
      ],
      "id": "uFkBeZQXqI2L"
    },
    {
      "cell_type": "code",
      "execution_count": null,
      "metadata": {
        "id": "pUcX35WbqI2L"
      },
      "outputs": [],
      "source": [
        "a = [20, 45, 10]\n",
        "10 in a"
      ],
      "id": "pUcX35WbqI2L"
    },
    {
      "cell_type": "code",
      "execution_count": null,
      "metadata": {
        "id": "zc5tg2WvqI2L"
      },
      "outputs": [],
      "source": [
        "a = [20, 45, 10]\n",
        "10 not in a"
      ],
      "id": "zc5tg2WvqI2L"
    },
    {
      "cell_type": "markdown",
      "metadata": {
        "id": "fdXbXQVoqI2L"
      },
      "source": [
        "#\n",
        "#  \n",
        "#\n",
        "#\n",
        "#\n",
        "#"
      ],
      "id": "fdXbXQVoqI2L"
    },
    {
      "cell_type": "markdown",
      "metadata": {
        "id": "MtQuIEoIqI2M"
      },
      "source": [
        "# Strings in Python"
      ],
      "id": "MtQuIEoIqI2M"
    },
    {
      "cell_type": "code",
      "execution_count": null,
      "metadata": {
        "id": "anR6UvhLqI2M"
      },
      "outputs": [],
      "source": [
        "message_1 = 'Hi! Welcome to Python Programming!!'\n",
        "message_2 = \"Hi! Welcome to Python Programming!!\"\n",
        "print(message_1)\n",
        "print(message_2)"
      ],
      "id": "anR6UvhLqI2M"
    },
    {
      "cell_type": "code",
      "execution_count": null,
      "metadata": {
        "id": "nWf7RI9CqI2M"
      },
      "outputs": [],
      "source": [
        "message_1 = 'Hi! Welcome to \"Python Programming\"!!'\n",
        "message_2 = \"Hi! Welcome to 'Python Programming'!!\"\n",
        "print(message_1)\n",
        "print(message_2)"
      ],
      "id": "nWf7RI9CqI2M"
    },
    {
      "cell_type": "markdown",
      "metadata": {
        "id": "i7mKrHnKqI2M"
      },
      "source": [
        "# String methods"
      ],
      "id": "i7mKrHnKqI2M"
    },
    {
      "cell_type": "code",
      "execution_count": null,
      "metadata": {
        "id": "t_kmDt24qI2M"
      },
      "outputs": [],
      "source": [
        "string = 'She seLLs sEa SHELLS oN tHe SeA sHoRe.'"
      ],
      "id": "t_kmDt24qI2M"
    },
    {
      "cell_type": "code",
      "execution_count": null,
      "metadata": {
        "id": "2ctKahDaqI2M",
        "outputId": "b6da214a-7c7b-4850-db37-a8561e488412"
      },
      "outputs": [
        {
          "name": "stdout",
          "output_type": "stream",
          "text": [
            "SHE SELLS SEA SHELLS ON THE SEA SHORE.\n"
          ]
        }
      ],
      "source": [
        "upper_case = string.upper()\n",
        "print(upper_case)"
      ],
      "id": "2ctKahDaqI2M"
    },
    {
      "cell_type": "code",
      "execution_count": null,
      "metadata": {
        "id": "pmFZ0ZhrqI2N",
        "outputId": "56ddc5b1-547e-4283-8e0a-fa5cb47790b1"
      },
      "outputs": [
        {
          "name": "stdout",
          "output_type": "stream",
          "text": [
            "she sells sea shells on the sea shore.\n"
          ]
        }
      ],
      "source": [
        "lower_case = string.lower()\n",
        "print(lower_case)"
      ],
      "id": "pmFZ0ZhrqI2N"
    },
    {
      "cell_type": "code",
      "execution_count": null,
      "metadata": {
        "id": "6K0J9gphqI2N",
        "outputId": "5c14bdc5-5894-4931-9562-bc498b1a51f3"
      },
      "outputs": [
        {
          "name": "stdout",
          "output_type": "stream",
          "text": [
            "She sells sea shells on the sea shore.\n"
          ]
        }
      ],
      "source": [
        "sentence = string.capitalize()\n",
        "print(sentence)"
      ],
      "id": "6K0J9gphqI2N"
    },
    {
      "cell_type": "code",
      "execution_count": null,
      "metadata": {
        "id": "0sim-iv7qI2N",
        "outputId": "326c7fce-6d9a-417d-ba33-3fc482e86488"
      },
      "outputs": [
        {
          "data": {
            "text/plain": [
              "'She Sells Sea Shells On The Sea Shore.'"
            ]
          },
          "execution_count": 5,
          "metadata": {},
          "output_type": "execute_result"
        }
      ],
      "source": [
        "word_upper = string.title()\n",
        "word_upper"
      ],
      "id": "0sim-iv7qI2N"
    },
    {
      "cell_type": "code",
      "execution_count": null,
      "metadata": {
        "id": "ztNykMnIqI2N"
      },
      "outputs": [],
      "source": [],
      "id": "ztNykMnIqI2N"
    }
  ],
  "metadata": {
    "kernelspec": {
      "display_name": "Python 3",
      "language": "python",
      "name": "python3"
    },
    "language_info": {
      "codemirror_mode": {
        "name": "ipython",
        "version": 3
      },
      "file_extension": ".py",
      "mimetype": "text/x-python",
      "name": "python",
      "nbconvert_exporter": "python",
      "pygments_lexer": "ipython3",
      "version": "3.8.2"
    },
    "colab": {
      "provenance": [],
      "include_colab_link": true
    }
  },
  "nbformat": 4,
  "nbformat_minor": 5
}