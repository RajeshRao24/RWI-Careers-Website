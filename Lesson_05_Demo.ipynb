{
  "cells": [
    {
      "cell_type": "markdown",
      "metadata": {
        "id": "view-in-github",
        "colab_type": "text"
      },
      "source": [
        "<a href=\"https://colab.research.google.com/github/RajeshRao24/RWI-Careers-Website/blob/main/Lesson_05_Demo.ipynb\" target=\"_parent\"><img src=\"https://colab.research.google.com/assets/colab-badge.svg\" alt=\"Open In Colab\"/></a>"
      ]
    },
    {
      "cell_type": "markdown",
      "metadata": {
        "id": "xcY0AEmGwwnx"
      },
      "source": [
        "## if statement"
      ],
      "id": "xcY0AEmGwwnx"
    },
    {
      "cell_type": "code",
      "execution_count": null,
      "metadata": {
        "colab": {
          "base_uri": "https://localhost:8080/"
        },
        "id": "sOgomY0Kwwn1",
        "outputId": "85328641-edba-44a6-f71e-0168947714c0"
      },
      "outputs": [
        {
          "name": "stdout",
          "output_type": "stream",
          "text": [
            "Enter Nationality : Indian\n"
          ]
        }
      ],
      "source": [
        "inp = input('Enter Nationality : ')"
      ],
      "id": "sOgomY0Kwwn1"
    },
    {
      "cell_type": "code",
      "source": [
        "inp"
      ],
      "metadata": {
        "colab": {
          "base_uri": "https://localhost:8080/",
          "height": 35
        },
        "id": "Pk0L5wibw-4p",
        "outputId": "6c2431f9-3e0b-46d6-9519-c4e94d442b51"
      },
      "id": "Pk0L5wibw-4p",
      "execution_count": null,
      "outputs": [
        {
          "output_type": "execute_result",
          "data": {
            "text/plain": [
              "'Indian'"
            ],
            "application/vnd.google.colaboratory.intrinsic+json": {
              "type": "string"
            }
          },
          "metadata": {},
          "execution_count": 2
        }
      ]
    },
    {
      "cell_type": "code",
      "execution_count": null,
      "metadata": {
        "colab": {
          "base_uri": "https://localhost:8080/"
        },
        "id": "u0fkt5kEwwn3",
        "outputId": "bddac48f-1354-484f-d8ee-079c952099c7"
      },
      "outputs": [
        {
          "output_type": "stream",
          "name": "stdout",
          "text": [
            "Thank You!!\n"
          ]
        }
      ],
      "source": [
        "if inp == \"French\":\n",
        "    print('Préférez vous parler français ?') # if block\n",
        "print('Thank You!!')"
      ],
      "id": "u0fkt5kEwwn3"
    },
    {
      "cell_type": "code",
      "execution_count": null,
      "metadata": {
        "colab": {
          "base_uri": "https://localhost:8080/"
        },
        "id": "Csr9ICG0wwn3",
        "outputId": "e4f61a2e-17f3-4198-9d41-ec9bb21fedb6"
      },
      "outputs": [
        {
          "output_type": "stream",
          "name": "stdout",
          "text": [
            "Enter Nationality : French\n",
            "Préférez vous parler français ?\n",
            "Thank You!!\n"
          ]
        }
      ],
      "source": [
        "inp = input('Enter Nationality : ')\n",
        "if inp == \"French\":\n",
        "    print('Préférez vous parler français ?') # if block\n",
        "print('Thank You!!')"
      ],
      "id": "Csr9ICG0wwn3"
    },
    {
      "cell_type": "markdown",
      "metadata": {
        "id": "Bk2qzWFPwwn4"
      },
      "source": [
        "## if else"
      ],
      "id": "Bk2qzWFPwwn4"
    },
    {
      "cell_type": "code",
      "execution_count": null,
      "metadata": {
        "colab": {
          "base_uri": "https://localhost:8080/"
        },
        "id": "LH2VQgjQwwn4",
        "outputId": "e9fc5704-99bf-4f7a-cdb2-a2ac93589e08"
      },
      "outputs": [
        {
          "name": "stdout",
          "output_type": "stream",
          "text": [
            "Enter a number : -45\n"
          ]
        }
      ],
      "source": [
        "num = int(input('Enter a number : '))"
      ],
      "id": "LH2VQgjQwwn4"
    },
    {
      "cell_type": "code",
      "execution_count": null,
      "metadata": {
        "colab": {
          "base_uri": "https://localhost:8080/"
        },
        "id": "USxVoDntwwn4",
        "outputId": "c47ce599-9c22-4ba0-dd9c-2e9390374cab"
      },
      "outputs": [
        {
          "output_type": "stream",
          "name": "stdout",
          "text": [
            "-45  is a negative number\n"
          ]
        }
      ],
      "source": [
        "if num > 0 :\n",
        "    print(num, ' is a positve number')\n",
        "else :\n",
        "    print(num, ' is a negative number')"
      ],
      "id": "USxVoDntwwn4"
    },
    {
      "cell_type": "markdown",
      "metadata": {
        "id": "_j1NJqXHwwn5"
      },
      "source": [
        "## if elif"
      ],
      "id": "_j1NJqXHwwn5"
    },
    {
      "cell_type": "code",
      "execution_count": 1,
      "metadata": {
        "id": "0cEtLRrMwwn5",
        "colab": {
          "base_uri": "https://localhost:8080/"
        },
        "outputId": "88a9f694-08b9-42cd-d2af-43881c7ad6ff"
      },
      "outputs": [
        {
          "output_type": "stream",
          "name": "stdout",
          "text": [
            "Please enter marks : 26\n",
            "Grade F\n",
            "Thank you !!\n"
          ]
        }
      ],
      "source": [
        "marks =  float(input('Please enter marks : '))\n",
        "if marks >=90 :\n",
        "    print('Grade A')\n",
        "elif marks >=75 :\n",
        "    print('Grade B')\n",
        "elif marks >= 55 :\n",
        "    print('Grade C')\n",
        "elif marks >= 35 :\n",
        "    print('Grade D')\n",
        "else :\n",
        "    print('Grade F')\n",
        "print('Thank you !!')"
      ],
      "id": "0cEtLRrMwwn5"
    },
    {
      "cell_type": "markdown",
      "metadata": {
        "id": "11mxNBbawwn5"
      },
      "source": [
        "## Nested if"
      ],
      "id": "11mxNBbawwn5"
    },
    {
      "cell_type": "code",
      "execution_count": 2,
      "metadata": {
        "colab": {
          "base_uri": "https://localhost:8080/"
        },
        "id": "W5SkN7bfwwn5",
        "outputId": "16d3d48c-3d11-436b-d42b-e39726bea461"
      },
      "outputs": [
        {
          "name": "stdout",
          "output_type": "stream",
          "text": [
            "Enter a number :100\n",
            "Enter a number :-100\n",
            "Enter a number :0\n"
          ]
        }
      ],
      "source": [
        "a = int(input('Enter a number :'))\n",
        "b = int(input('Enter a number :'))\n",
        "c = int(input('Enter a number :'))"
      ],
      "id": "W5SkN7bfwwn5"
    },
    {
      "cell_type": "code",
      "execution_count": 3,
      "metadata": {
        "colab": {
          "base_uri": "https://localhost:8080/"
        },
        "id": "lDlp8GYXwwn6",
        "outputId": "37b92d81-9573-406a-a93f-9f5e37d78a5c"
      },
      "outputs": [
        {
          "output_type": "stream",
          "name": "stdout",
          "text": [
            "a ( 100 ) is greatest\n"
          ]
        }
      ],
      "source": [
        "if (a > b):\n",
        "    if (a > c):\n",
        "        print('a (', a, ') is greatest')\n",
        "    else :\n",
        "        print('c (', c, ') is greatest')\n",
        "else :\n",
        "    if (b > c):\n",
        "        print('b (', b, ') is greatest')\n",
        "    else :\n",
        "        print('c (', c, ') is greatest')"
      ],
      "id": "lDlp8GYXwwn6"
    },
    {
      "cell_type": "markdown",
      "metadata": {
        "id": "TWz5_Gt9wwn6"
      },
      "source": [
        "# Loops"
      ],
      "id": "TWz5_Gt9wwn6"
    },
    {
      "cell_type": "markdown",
      "metadata": {
        "id": "pV5Qq95Lwwn6"
      },
      "source": [
        "## for loop"
      ],
      "id": "pV5Qq95Lwwn6"
    },
    {
      "cell_type": "code",
      "execution_count": 4,
      "metadata": {
        "id": "RWU50kdGwwn6",
        "outputId": "54172d4b-a16e-4a45-a6c4-cfb2c19cd0d3",
        "colab": {
          "base_uri": "https://localhost:8080/"
        }
      },
      "outputs": [
        {
          "output_type": "stream",
          "name": "stdout",
          "text": [
            "P\n",
            "y\n",
            "t\n",
            "h\n",
            "o\n",
            "n\n",
            "1\n",
            "2\n",
            "3\n",
            "Thank You!!\n"
          ]
        }
      ],
      "source": [
        "string = 'Python123'\n",
        "for s in string:\n",
        "    print(s)\n",
        "print('Thank You!!')"
      ],
      "id": "RWU50kdGwwn6"
    },
    {
      "cell_type": "code",
      "source": [
        "for i in [1, 2, 3, 4, 5, 6, 7,0,-1]:\n",
        "  if i % 2 == 0:\n",
        "    print(i, ' It is even')\n",
        "  else:\n",
        "    print(i,' It is odd')"
      ],
      "metadata": {
        "colab": {
          "base_uri": "https://localhost:8080/"
        },
        "id": "E-LUk6vazGa6",
        "outputId": "ef499cdc-d9ed-4b93-cea4-75a28200111d"
      },
      "id": "E-LUk6vazGa6",
      "execution_count": 6,
      "outputs": [
        {
          "output_type": "stream",
          "name": "stdout",
          "text": [
            "1  It is odd\n",
            "2  It is even\n",
            "3  It is odd\n",
            "4  It is even\n",
            "5  It is odd\n",
            "6  It is even\n",
            "7  It is odd\n",
            "0  It is even\n",
            "-1  It is odd\n"
          ]
        }
      ]
    },
    {
      "cell_type": "markdown",
      "metadata": {
        "id": "pyoCBy1Zwwn8"
      },
      "source": [
        "## while loop"
      ],
      "id": "pyoCBy1Zwwn8"
    },
    {
      "cell_type": "code",
      "execution_count": null,
      "metadata": {
        "id": "Y_j3xh3hwwn8",
        "outputId": "6ef7407c-36ea-44cb-9e2f-c091bbdc7b52"
      },
      "outputs": [
        {
          "name": "stdout",
          "output_type": "stream",
          "text": [
            "0\n",
            "1\n",
            "2\n",
            "3\n",
            "4\n",
            "Thank You!!\n"
          ]
        }
      ],
      "source": [
        "counter = 0\n",
        "while counter < 5:\n",
        "    print(counter)\n",
        "    counter += 1\n",
        "print('Thank You!!')"
      ],
      "id": "Y_j3xh3hwwn8"
    },
    {
      "cell_type": "markdown",
      "metadata": {
        "id": "vtBmfHZGwwn8"
      },
      "source": [
        "##### while loop never executed"
      ],
      "id": "vtBmfHZGwwn8"
    },
    {
      "cell_type": "code",
      "execution_count": null,
      "metadata": {
        "id": "q8Howalawwn8",
        "outputId": "8718d969-813a-4537-d759-defc067efbdf"
      },
      "outputs": [
        {
          "name": "stdout",
          "output_type": "stream",
          "text": [
            "Thank you\n"
          ]
        }
      ],
      "source": [
        "counter = 5\n",
        "while counter < 5:\n",
        "    print(counter)\n",
        "    counter += 1\n",
        "print('Thank you')"
      ],
      "id": "q8Howalawwn8"
    },
    {
      "cell_type": "markdown",
      "metadata": {
        "id": "mmNeA6COwwn9"
      },
      "source": [
        "##### infinite while loop"
      ],
      "id": "mmNeA6COwwn9"
    },
    {
      "cell_type": "code",
      "execution_count": null,
      "metadata": {
        "jupyter": {
          "outputs_hidden": true
        },
        "tags": [],
        "id": "1qDxguD-wwn9"
      },
      "outputs": [],
      "source": [
        "counter = 0\n",
        "while counter < 5:\n",
        "    print(counter)\n",
        "print('Thank you')"
      ],
      "id": "1qDxguD-wwn9"
    },
    {
      "cell_type": "markdown",
      "metadata": {
        "id": "i7sXbmrYwwn9"
      },
      "source": [
        "## Range function"
      ],
      "id": "i7sXbmrYwwn9"
    },
    {
      "cell_type": "markdown",
      "metadata": {
        "id": "txomubiSwwn9"
      },
      "source": [
        "#### range(n)"
      ],
      "id": "txomubiSwwn9"
    },
    {
      "cell_type": "code",
      "execution_count": 7,
      "metadata": {
        "colab": {
          "base_uri": "https://localhost:8080/"
        },
        "id": "vS7sYn18wwn-",
        "outputId": "600afd89-e408-4cc1-c759-56c914ef3a5a"
      },
      "outputs": [
        {
          "output_type": "stream",
          "name": "stdout",
          "text": [
            "range(0, 10)\n"
          ]
        }
      ],
      "source": [
        "obj = range(10)\n",
        "print(obj)"
      ],
      "id": "vS7sYn18wwn-"
    },
    {
      "cell_type": "code",
      "execution_count": null,
      "metadata": {
        "colab": {
          "base_uri": "https://localhost:8080/"
        },
        "id": "w4dxbofTwwn-",
        "outputId": "0aec1591-fb90-4f40-81c0-eda30c6a9c1e"
      },
      "outputs": [
        {
          "output_type": "stream",
          "name": "stdout",
          "text": [
            "[0, 1, 2, 3, 4, 5, 6, 7, 8, 9]\n"
          ]
        }
      ],
      "source": [
        "print(list(obj))"
      ],
      "id": "w4dxbofTwwn-"
    },
    {
      "cell_type": "markdown",
      "metadata": {
        "id": "Mb2m8oOAwwn-"
      },
      "source": [
        "#### range(start, stop)"
      ],
      "id": "Mb2m8oOAwwn-"
    },
    {
      "cell_type": "code",
      "execution_count": null,
      "metadata": {
        "colab": {
          "base_uri": "https://localhost:8080/"
        },
        "id": "rZTbUt7Dwwn-",
        "outputId": "03fec674-0cd8-4401-c4b8-905c28a3255e"
      },
      "outputs": [
        {
          "output_type": "stream",
          "name": "stdout",
          "text": [
            "[5, 6, 7, 8, 9, 10, 11, 12, 13, 14]\n"
          ]
        }
      ],
      "source": [
        "obj = range(5, 15)\n",
        "print(list(obj))"
      ],
      "id": "rZTbUt7Dwwn-"
    },
    {
      "cell_type": "markdown",
      "metadata": {
        "id": "f_cqba07wwn-"
      },
      "source": [
        "#### step in range"
      ],
      "id": "f_cqba07wwn-"
    },
    {
      "cell_type": "code",
      "execution_count": null,
      "metadata": {
        "colab": {
          "base_uri": "https://localhost:8080/"
        },
        "id": "-sOnEychwwn-",
        "outputId": "d43c1f98-135a-427d-9a98-f27a31b1bc18"
      },
      "outputs": [
        {
          "output_type": "stream",
          "name": "stdout",
          "text": [
            "[2, 4, 6, 8, 10, 12, 14, 16, 18, 20, 22, 24, 26, 28, 30, 32, 34, 36, 38, 40, 42, 44, 46, 48]\n"
          ]
        }
      ],
      "source": [
        "obj = range(2, 50, 2)\n",
        "print(list(obj))"
      ],
      "id": "-sOnEychwwn-"
    },
    {
      "cell_type": "markdown",
      "metadata": {
        "id": "pWuCvRyDwwn_"
      },
      "source": [
        "## Nested Loops"
      ],
      "id": "pWuCvRyDwwn_"
    },
    {
      "cell_type": "code",
      "execution_count": null,
      "metadata": {
        "id": "4CgTSNV2wwn_"
      },
      "outputs": [],
      "source": [
        "# outer loop\n",
        "for j in range(2,11):\n",
        "    print('Table of :', j)\n",
        "    # inner loop\n",
        "    for i in range(1,11):\n",
        "        # print multiplication\n",
        "        print('{:2d} X {:2d} = {:2d}'.format(j,i, j*i).center(20))\n",
        "    print('\\nEnd of multiplication table of ', j, '\\n')\n",
        "print('Thank You')"
      ],
      "id": "4CgTSNV2wwn_"
    },
    {
      "cell_type": "markdown",
      "metadata": {
        "tags": [],
        "id": "iYTTgt8kwwn_"
      },
      "source": [
        "## Loop Control Statements"
      ],
      "id": "iYTTgt8kwwn_"
    },
    {
      "cell_type": "code",
      "execution_count": null,
      "metadata": {
        "colab": {
          "base_uri": "https://localhost:8080/"
        },
        "id": "y1Ws2kCNwwn_",
        "outputId": "1f0e340b-122f-4589-d121-55ead81c0e92"
      },
      "outputs": [
        {
          "output_type": "stream",
          "name": "stdout",
          "text": [
            "P\n",
            "y\n",
            "t\n",
            "End of Loop\n"
          ]
        }
      ],
      "source": [
        "for s in 'Python':\n",
        "    if s == 'h':\n",
        "        break\n",
        "    print(s)\n",
        "print('End of Loop')"
      ],
      "id": "y1Ws2kCNwwn_"
    },
    {
      "cell_type": "code",
      "execution_count": null,
      "metadata": {
        "colab": {
          "base_uri": "https://localhost:8080/"
        },
        "id": "cIlC0bf4wwn_",
        "outputId": "de715765-7587-4a09-e49c-4ce2162e13a7"
      },
      "outputs": [
        {
          "output_type": "stream",
          "name": "stdout",
          "text": [
            "P\n",
            "y\n",
            "t\n",
            "o\n",
            "n\n",
            "End of Loop\n"
          ]
        }
      ],
      "source": [
        "for s in 'Python':\n",
        "    if s == 'h':\n",
        "        continue\n",
        "    print(s)\n",
        "print('End of Loop')"
      ],
      "id": "cIlC0bf4wwn_"
    },
    {
      "cell_type": "markdown",
      "metadata": {
        "id": "ffzHfo63wwoA"
      },
      "source": [
        "## Loop Else Statements"
      ],
      "id": "ffzHfo63wwoA"
    },
    {
      "cell_type": "code",
      "execution_count": null,
      "metadata": {
        "colab": {
          "base_uri": "https://localhost:8080/"
        },
        "id": "ZfENglJwwwoA",
        "outputId": "9da3c124-b227-4f4d-da7b-fe8803dceee7"
      },
      "outputs": [
        {
          "output_type": "stream",
          "name": "stdout",
          "text": [
            "Enter edible item :spam\n",
            "No more spam please !!\n",
            "Finally finshed stuffing myself!!\n"
          ]
        }
      ],
      "source": [
        "for i in range(5):\n",
        "    food = input('Enter edible item :')\n",
        "    if food == 'spam':\n",
        "        print('No more spam please !!')\n",
        "        break\n",
        "    print('Great Delicious ')\n",
        "else :\n",
        "    print('I am so glad !! No Spam')\n",
        "print('Finally finshed stuffing myself!!')"
      ],
      "id": "ZfENglJwwwoA"
    },
    {
      "cell_type": "code",
      "execution_count": null,
      "metadata": {
        "colab": {
          "base_uri": "https://localhost:8080/"
        },
        "id": "NjNxOqxvwwoA",
        "outputId": "39b77375-87eb-4b36-e2f9-5ac6ebe53366"
      },
      "outputs": [
        {
          "output_type": "stream",
          "name": "stdout",
          "text": [
            "Enter edible item :spam\n",
            "No more spam please !!\n",
            "Enter edible item :fires\n",
            "Great Delicious \n",
            "Enter edible item :fries\n",
            "Great Delicious \n",
            "Enter edible item :fish\n",
            "Great Delicious \n",
            "Enter edible item :spam\n",
            "No more spam please !!\n",
            "I am so glad !! No Spam\n",
            "Finally finshed stuffing myself!!\n"
          ]
        }
      ],
      "source": [
        "for i in range(5):\n",
        "    food = input('Enter edible item :')\n",
        "    if food == 'spam':\n",
        "        print('No more spam please !!')\n",
        "        continue\n",
        "    print('Great Delicious ')\n",
        "else :\n",
        "    print('I am so glad !! No Spam')\n",
        "print('Finally finshed stuffing myself!!')"
      ],
      "id": "NjNxOqxvwwoA"
    },
    {
      "cell_type": "code",
      "execution_count": null,
      "metadata": {
        "id": "x1hTZq6awwoB"
      },
      "outputs": [],
      "source": [],
      "id": "x1hTZq6awwoB"
    }
  ],
  "metadata": {
    "kernelspec": {
      "display_name": "Python 3",
      "language": "python",
      "name": "python3"
    },
    "language_info": {
      "codemirror_mode": {
        "name": "ipython",
        "version": 3
      },
      "file_extension": ".py",
      "mimetype": "text/x-python",
      "name": "python",
      "nbconvert_exporter": "python",
      "pygments_lexer": "ipython3",
      "version": "3.8.2"
    },
    "colab": {
      "provenance": [],
      "include_colab_link": true
    }
  },
  "nbformat": 4,
  "nbformat_minor": 5
}